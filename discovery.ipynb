{
 "cells": [
  {
   "cell_type": "markdown",
   "id": "2e8c6a15",
   "metadata": {},
   "source": [
    "# Initial Discovery"
   ]
  },
  {
   "cell_type": "markdown",
   "id": "ba8e4b27",
   "metadata": {},
   "source": [
    "## Context"
   ]
  },
  {
   "cell_type": "markdown",
   "id": "793a7302",
   "metadata": {},
   "source": [
    "I created this notebook, because I realized that in my initial `test.py` script I was documenting my code in a way that was more suitable to a python notebook. With that being siad, I will be rearranging some of the code to better suit this more narrative style. Hopefully this context will be helpful for anyone who was wondering.\n",
    "\n",
    "With that out of the way, let's dive in."
   ]
  },
  {
   "cell_type": "markdown",
   "id": "65e7d589",
   "metadata": {},
   "source": [
    "## Import required libraries"
   ]
  },
  {
   "cell_type": "code",
   "execution_count": 1,
   "id": "364c4035",
   "metadata": {},
   "outputs": [],
   "source": [
    "from pypdf import PdfReader as pr\n",
    "import pandas as pd\n",
    "import numpy as np\n",
    "import re"
   ]
  },
  {
   "cell_type": "markdown",
   "id": "ebda3faf",
   "metadata": {},
   "source": [
    "## Read in the data"
   ]
  },
  {
   "cell_type": "markdown",
   "id": "8f67405a",
   "metadata": {},
   "source": [
    "In this case we will be working with the course catalog found at this [link]() for the 2025 Fall Term courses offered at the City College of San Francisco (CCSF)."
   ]
  },
  {
   "cell_type": "code",
   "execution_count": 2,
   "id": "cd035fea",
   "metadata": {},
   "outputs": [
    {
     "name": "stderr",
     "output_type": "stream",
     "text": [
      "<>:2: SyntaxWarning: invalid escape sequence '\\c'\n",
      "<>:2: SyntaxWarning: invalid escape sequence '\\c'\n",
      "C:\\Users\\chris\\AppData\\Local\\Temp\\ipykernel_22860\\3247992145.py:2: SyntaxWarning: invalid escape sequence '\\c'\n",
      "  reader = pr(\"pdfs\\ccsf_fall-2025-credit-classes.pdf\")\n"
     ]
    }
   ],
   "source": [
    "# Create an instance of the `PdfReader` class\n",
    "reader = pr(\"pdfs\\ccsf_fall-2025-credit-classes.pdf\")"
   ]
  },
  {
   "cell_type": "markdown",
   "id": "7cf4da01",
   "metadata": {},
   "source": [
    "## Examine the first page"
   ]
  },
  {
   "cell_type": "code",
   "execution_count": 3,
   "id": "f30774b1",
   "metadata": {},
   "outputs": [],
   "source": [
    "first_page = reader.pages[0].extract_text().split('\\n')"
   ]
  },
  {
   "cell_type": "markdown",
   "id": "10e4bd24",
   "metadata": {},
   "source": [
    "### \"Meta\" data"
   ]
  },
  {
   "cell_type": "markdown",
   "id": "023ce9ba",
   "metadata": {},
   "source": [
    "I figured it would be nice to get some metadata about the courses."
   ]
  },
  {
   "cell_type": "code",
   "execution_count": 4,
   "id": "ad855d17",
   "metadata": {},
   "outputs": [
    {
     "name": "stdout",
     "output_type": "stream",
     "text": [
      "['CREDIT', 'FALL', '2025CCSF', 'SCHEDULE', 'OF', 'CLASSES']\n"
     ]
    }
   ],
   "source": [
    "# Contains the information about the context of the courses in this file\n",
    "meta = first_page[0].split()\n",
    "print(meta)"
   ]
  },
  {
   "cell_type": "code",
   "execution_count": 5,
   "id": "c7940cae",
   "metadata": {},
   "outputs": [
    {
     "data": {
      "text/plain": [
       "{'school': 'CCSF', 'are_credit_courses': True, 'term': 'FALL', 'year': '2025'}"
      ]
     },
     "execution_count": 5,
     "metadata": {},
     "output_type": "execute_result"
    }
   ],
   "source": [
    "# Weird space between hard coding and kind of not?\n",
    "meta = {\n",
    "    # Handling the combined year and college name\n",
    "    'school': meta[2][4:],\n",
    "    'are_credit_courses': True if meta[0] == 'CREDIT' else False,\n",
    "    'term': meta[1],\n",
    "    # Handling the combined year and college name\n",
    "    'year': meta[2][:4] \n",
    "}\n",
    "\n",
    "meta"
   ]
  },
  {
   "cell_type": "markdown",
   "id": "809fc4d7",
   "metadata": {},
   "source": [
    "### Column Headers"
   ]
  },
  {
   "cell_type": "markdown",
   "id": "b6a8275a",
   "metadata": {},
   "source": [
    "In this document, which you can view [here](), you can see that there are several columns used to organize information pertaining to each course. Let's check out what the `reader` object is returning."
   ]
  },
  {
   "cell_type": "code",
   "execution_count": 6,
   "id": "77e7cf47",
   "metadata": {},
   "outputs": [
    {
     "data": {
      "text/plain": [
       "'CRN  SEC  TYPE  D AYS TIMES  D ATES L OCATION  C AMPUS  INSTR UCTOR'"
      ]
     },
     "execution_count": 6,
     "metadata": {},
     "output_type": "execute_result"
    }
   ],
   "source": [
    "first_page[1]"
   ]
  },
  {
   "cell_type": "markdown",
   "id": "25dfbeb0",
   "metadata": {},
   "source": [
    "Because several of the column titles have odd spacing, I felt that it was easier to just hardcode the column titles:"
   ]
  },
  {
   "cell_type": "code",
   "execution_count": 7,
   "id": "516f505c",
   "metadata": {},
   "outputs": [],
   "source": [
    "column_headers = [\n",
    "    'CRN',\n",
    "    'SEC',\n",
    "    'TYPE',\n",
    "    'DAYS',\n",
    "    'TIMES',\n",
    "    'DATES',\n",
    "    'LOCATION',\n",
    "    'CAMPUS',\n",
    "    'INSTRUCTOR'\n",
    "]"
   ]
  },
  {
   "cell_type": "markdown",
   "id": "5851634a",
   "metadata": {},
   "source": [
    "### Parsing the Data"
   ]
  },
  {
   "cell_type": "markdown",
   "id": "6ba40262",
   "metadata": {},
   "source": [
    "It became clear quite quickly that the returned text data would not be very clear. So I needed to find a way to parse the data but also retain its hierarchy."
   ]
  },
  {
   "cell_type": "markdown",
   "id": "9cd8f2aa",
   "metadata": {},
   "source": [
    "#### Troubleshooting"
   ]
  },
  {
   "cell_type": "markdown",
   "id": "3c9695e8",
   "metadata": {},
   "source": [
    "We have `.extract_text()`, which we used for the work above, but that didn't provide much insight on hierarchy. Printing out the text below, we can see that the footer (e.g., \"REGISTER ONLINE TODAY!\") is returned before any of the actual department or course information.\n",
    "\n",
    "Additionally, we still get the weird spacing between some of the column titles and the actual course information pertaining to each column (e.g., \"L ec\" for the \"TYPE\" column, or \"T R\" for \"DAYS\", etc.)."
   ]
  },
  {
   "cell_type": "code",
   "execution_count": 8,
   "id": "c42a1129",
   "metadata": {},
   "outputs": [
    {
     "data": {
      "text/plain": [
       "['CREDIT FALL 2025CCSF SCHEDULE OF CLASSES',\n",
       " 'CRN  SEC  TYPE  D AYS TIMES  D ATES L OCATION  C AMPUS  INSTR UCTOR',\n",
       " 'REGISTER ONLINE TODAY!  1',\n",
       " 'LAST UPDATED: 6/27/2025, 4:30PM',\n",
       " 'Academic Achievement & Personal Success',\n",
       " 'AAPS 103: Orientation to College Transfer 3 .0',\n",
       " 'PREREQ: Completion of or concurrent enrollment in: ENGL C1000.  ',\n",
       " '70482 0 08  L ec  T R  0 9:40-10:55AM  0 8/19-12/19  M IC 254  M ission  R ivera',\n",
       " ' ',\n",
       " 'Accounting']"
      ]
     },
     "execution_count": 8,
     "metadata": {},
     "output_type": "execute_result"
    }
   ],
   "source": [
    "# Feel free to change how much you want printed out\n",
    "first_page[:10]"
   ]
  },
  {
   "cell_type": "markdown",
   "id": "7566b657",
   "metadata": {},
   "source": [
    "With some perusing, you can find that there are different \"extraction modes\" (`plain` vs `layout`). `plain` is the default and legacy option, so let's try `layout`."
   ]
  },
  {
   "cell_type": "code",
   "execution_count": 9,
   "id": "041c8b83",
   "metadata": {},
   "outputs": [
    {
     "name": "stdout",
     "output_type": "stream",
     "text": [
      " Academic Achievement & Personal Success\n",
      " AAPS 103: Orientation to College Transfer                                                                                                                   3.0\n",
      "          PREREQ: Completion of or concurrent enrollment in: ENGL C1000.\n",
      "     70482      008       Lec        TR         09:40 -10:55AM          08/19 -12/19     MIC 254                Mission           Rivera\n",
      "\n",
      "\n",
      "\n",
      " Accounting\n",
      " ACC T 1: Financial Accounting                                                                                                                               5.0\n",
      "          Recommended Prep: (Readiness for college -level English or ESL 188) and BSMA 68.\n"
     ]
    }
   ],
   "source": [
    "# Converting to a list so we can print in a for loop\n",
    "first_page = reader.pages[0].extract_text(extraction_mode='layout').split('\\n')\n",
    "\n",
    "lines = 10\n",
    "for line in range(lines):\n",
    "    print(first_page[line])"
   ]
  },
  {
   "cell_type": "markdown",
   "id": "0c78119e",
   "metadata": {},
   "source": [
    "Something important to note is that this approach seems to drop the header information (up to the 10th line) but does keep the overall layout of the document well preserved **and** it does not create splits in the course information like the `plain` method did.\n",
    "\n",
    "*However*, there is still the issue of understanding the hierarchy. We could use regular expressions and conditionals to try and map out a predictable pattern for the text, but that *feels* inefficient and the documentation also makes reference that it is \"very hard to guarantee correct whitespaces.\"\n",
    "\n",
    "So I looked into this method some more and found that you can use a 'visitor function' which, for the purposes of this project, can provide more information about the text being read by the extractor. This does present another issue, as 'visitor functions' cannot be used with the `layout` \"extraction mode\".\n",
    "\n",
    "Nevertheless, let's inspect this new approach:"
   ]
  },
  {
   "cell_type": "markdown",
   "id": "9e17db23",
   "metadata": {},
   "source": [
    "###### Method Arguments"
   ]
  },
  {
   "cell_type": "markdown",
   "id": "c785d2ce",
   "metadata": {},
   "source": [
    "If you would like to know more about this please follow this [link](https://pypdf.readthedocs.io/en/stable/user/extract-text.html). But I will paste their explanation of the visitor function's arguments below:\n",
    "\n",
    "- text: the current text (as long as possible, can be up to a full line)\n",
    "- user_matrix: current matrix to move from user coordinate space (also known as CTM)\n",
    "- tm_matrix: current matrix from text coordinate space\n",
    "- font_dictionary: full font dictionary\n",
    "- font_size: the size (in text coordinate space)"
   ]
  },
  {
   "cell_type": "markdown",
   "id": "410bc526",
   "metadata": {},
   "source": [
    "###### *Uncollapse the above section if you'd like an explanation of the method arguments"
   ]
  },
  {
   "cell_type": "markdown",
   "id": "457d6a3f",
   "metadata": {},
   "source": [
    "The documentation shows that we pass the visitor function through our `extract_text` method, which allows us to obtain some extra information about the text that is parsed by the extractor - namely `font_size`. \n",
    "\n",
    "Given how the document is structured, it could be useful to use the `font_size` to distinguish between certain sections on each page. To obtain this, we need to accumulate the font sizes identfied in the extractor."
   ]
  },
  {
   "cell_type": "code",
   "execution_count": 10,
   "id": "b152fa8b",
   "metadata": {},
   "outputs": [
    {
     "name": "stdout",
     "output_type": "stream",
     "text": [
      "Item 0: (12.0) - \n",
      "Item 1: (12.0) - \n",
      "Item 2: (1.0) - CREDIT FALL 2025CCSF SCHEDULE OF CLASSES\n",
      "Item 3: (1.0) - \n",
      "Item 4: (1.0) - \n",
      "\n",
      "Item 5: (1.0) - CRN\n",
      "Item 6: (1.0) - \n",
      "Item 7: (1.0) -   \n",
      "Item 8: (1.0) - \n",
      "Item 9: (1.0) - SEC\n"
     ]
    }
   ],
   "source": [
    "# Define an accumulator to collect the font sizes and the actual text processed\n",
    "font_sizes = []\n",
    "processed_text = []\n",
    "\n",
    "# Define a visitor function\n",
    "def visitor_func(text, cm, tm, font_dict, font_size):\n",
    "    # Since we don't know how many items will be processed we will have to append new items\n",
    "    font_sizes.append(font_size)\n",
    "    processed_text.append(text)\n",
    "\n",
    "# Extract/process the text on the first page\n",
    "first_page = reader.pages[0].extract_text(visitor_text=visitor_func)\n",
    "\n",
    "# Debug the information gathered\n",
    "for i, (font_size, text) in enumerate(zip(font_sizes, processed_text)):\n",
    "    if i >= 10:\n",
    "        break\n",
    "    print(f\"Item {i}: ({font_size}) - {text}\")"
   ]
  },
  {
   "cell_type": "markdown",
   "id": "ccb4e04e",
   "metadata": {},
   "source": [
    "So, the result was pretty confusing. How is it that the font size for the largest text on the document (Item 2) has a font size of 1? I know that we already manually parsed the header, but if you increase the number of lines the previous cell prints, you will see similarly concerning/unexpected outputs.\n",
    "\n",
    "Fortunately, there are other arguments that I passed over that can still be useful. The argument `tm` is defined as the \"current matrix from text coordinate space\", and the documentation later goes on to say the following:\n",
    "\n",
    "\"*The matrix stores six parameters. The first four provide the rotation/scaling matrix and the last two provide the translation (horizontal/vertical). It is recommended to use the user_matrix as it takes into account all transformations.*\"\n",
    "\n",
    "Let's take a look at what the `tm` argument returns:"
   ]
  },
  {
   "cell_type": "code",
   "execution_count": 11,
   "id": "823a3fd0",
   "metadata": {},
   "outputs": [
    {
     "name": "stdout",
     "output_type": "stream",
     "text": [
      "Item 0: (12.0) - [1.0, 0.0, 0.0, 1.0, 0.0, 0.0] -\n",
      "Item 1: (12.0) - [1.0, 0.0, 0.0, 1.0, 0.0, 0.0] -\n",
      "Item 2: (1.0) - [16.0, 0.0, 0.0, 16.0, 36.0798, 750.1841] -CREDIT FALL 2025CCSF SCHEDULE OF CLASSES\n",
      "Item 3: (1.0) - [18.0, 0.0, 0.0, 18.0, 179.0648, 749.4571] -\n",
      "Item 4: (1.0) - [1.0, 0.0, 0.0, 1.0, 0.0, 0.0] -\n",
      "\n",
      "Item 5: (1.0) - [9.0, 0.0, 0.0, 9.0, 55.19, 732.15] -CRN\n",
      "Item 6: (1.0) - [9.0, 0.0, 0.0, 9.0, 55.19, 732.15] -\n",
      "Item 7: (1.0) - [1.0, 0.0, 0.0, 1.0, 0.0, 0.0] -  \n",
      "Item 8: (1.0) - [9.0, 0.0, 0.0, 9.0, 72.677, 732.15] -\n",
      "Item 9: (1.0) - [9.0, 0.0, 0.0, 9.0, 92.306, 732.15] -SEC\n"
     ]
    }
   ],
   "source": [
    "# Define an accumulator to collect the font sizes and the actual text processed\n",
    "font_sizes = []\n",
    "processed_text = []\n",
    "tms = []\n",
    "\n",
    "# Define a visitor function\n",
    "def visitor_func(text, cm, tm, font_dict, font_size):\n",
    "    # Since we don't know how many items will be processed we will have to append new items\n",
    "    font_sizes.append(font_size)\n",
    "    processed_text.append(text)\n",
    "    # * Added in the tm accumulator\n",
    "    tms.append(tm)\n",
    "\n",
    "# Extract/process the text on the first page\n",
    "first_page = reader.pages[0].extract_text(visitor_text=visitor_func)\n",
    "\n",
    "# Debug the information gathered\n",
    "for i, (font_size, tm, text) in enumerate(zip(font_sizes, tms, processed_text)):\n",
    "    if i >= 10:\n",
    "        break\n",
    "    print(f\"Item {i}: ({font_size}) - {tm} -{text}\")"
   ]
  },
  {
   "cell_type": "markdown",
   "id": "1c501911",
   "metadata": {},
   "source": [
    "Given that the first four elements are said to pertain to rotation and scaling, and only the 1st and 4th of those elements are filled (you can print out more to confirm), I will opt to see if the 4th element would be a suitable marker for font size:"
   ]
  },
  {
   "cell_type": "code",
   "execution_count": 12,
   "id": "ead968ca",
   "metadata": {},
   "outputs": [
    {
     "name": "stdout",
     "output_type": "stream",
     "text": [
      "Item 0: (1.0) - \n",
      "Item 1: (1.0) - \n",
      "Item 2: (16.0) - CREDIT FALL 2025CCSF SCHEDULE OF CLASSES\n",
      "Item 3: (18.0) - \n",
      "Item 4: (1.0) - \n",
      "\n",
      "Item 5: (9.0) - CRN\n",
      "Item 6: (9.0) - \n",
      "Item 7: (1.0) -   \n",
      "Item 8: (9.0) - \n",
      "Item 9: (9.0) - SEC\n"
     ]
    }
   ],
   "source": [
    "# Define an accumulator to collect the font sizes and the actual text processed\n",
    "font_sizes = []\n",
    "processed_text = []\n",
    "\n",
    "# Define a visitor function\n",
    "def visitor_func(text, cm, tm, font_dict, font_size):\n",
    "    # Since we don't know how many items will be processed we will have to append new items\n",
    "    font_sizes.append(tm[3]) # I'm now using the 4th element of tm for the font size\n",
    "    processed_text.append(text)\n",
    "\n",
    "# Extract/process the text on the first page\n",
    "first_page = reader.pages[0].extract_text(visitor_text=visitor_func)\n",
    "\n",
    "# Debug the information gathered\n",
    "for i, (font_size, text) in enumerate(zip(font_sizes, processed_text)):\n",
    "    if i >= 10:\n",
    "        break\n",
    "    print(f\"Item {i}: ({font_size}) - {text}\")"
   ]
  },
  {
   "cell_type": "markdown",
   "id": "c53893ba",
   "metadata": {},
   "source": [
    "This is very promising!\n",
    "\n",
    "I'm interested to see the distribution and examples of the font sizes and their corresponding text look like across the first page (as a sample of the entire document).\n",
    "\n",
    "Here's how I did this:"
   ]
  },
  {
   "cell_type": "code",
   "execution_count": 13,
   "id": "b7d9053c",
   "metadata": {},
   "outputs": [
    {
     "name": "stdout",
     "output_type": "stream",
     "text": [
      "1 (10, [\"'  '\", \"'  '\", \"'  '\", \"'  '\", \"'  '\", \"'  '\", \"'CREDIT FALL 2025CCSF SCHEDULE OF CLASSES\\\\nCRN  SEC  TYPE  D AYS TIMES  D ATES L OCATION  C AMPUS  INSTR UCTOR'\", \"'  '\", \"'  '\", \"'  '\"])\n",
      "9 (175, [\"'CRN'\", \"'SEC'\", \"'TYPE'\", \"'D AYS'\", \"'TIMES'\", \"'D ATES'\", \"'L OCATION'\", \"'C AMPUS'\", \"'INSTR UCTOR'\", \"'PREREQ: Completion of or concurrent enrollment in: ENGL C1000.  '\", \"'70482'\", \"'0 08'\", \"'  '\", \"'L ec'\", \"'  '\", \"'T R'\", \"'  '\", \"'0 9:40-10:55AM'\", \"'  '\", \"'0 8/19-12/19'\", \"'  '\", \"'M IC 254'\", \"'  '\", \"'M ission'\", \"'  '\", \"'R ivera'\", \"'Recommended Prep: (Readiness for college-level English or ESL 188) and BSMA 68.  '\", \"'70243'\", \"'0 01'\", \"'  '\", \"'L ec'\", \"'  '\", \"'M TWRF'\", \"'  '\", \"'1 0:10-11:00AM'\", \"'  '\", \"'0 8/18-12/19'\", \"'  '\", \"'C LOU 229'\", \"'  '\", \"'O cean'\", \"'  '\", \"'Y run'\", \"'70244'\", \"'0 02'\", \"'  '\", \"'L ec'\", \"'  '\", \"'M TWRF'\", \"'  '\", \"'1 1:10-12:00PM'\", \"'  '\", \"'0 8/18-12/19'\", \"'  '\", \"'C LOU 229'\", \"'  '\", \"'O cean'\", \"'  '\", \"'Y run'\", \"'70246'\", \"'0 04'\", \"'  '\", \"'L ec'\", \"'  '\", \"'MW'\", \"'  '\", \"'0 2:10-04:25PM'\", \"'  '\", \"'0 8/18-12/19'\", \"'  '\", \"'C LOU 230'\", \"'  '\", \"'O cean'\", \"'  '\", \"'M ullen'\", \"'70247'\", \"'9 31'\", \"'O nl'\", \"'  '\", \"'A synchronous'\", \"'0 9/02-12/19'\", \"'  '\", \"'O nline'\", \"'C arballo'\", \"'This class requires use of Canvas with no required in-person meetings. Students will complete course-\\\\n'\", \"'work in Canvas, which must be accessed using an internet-enabled device. This class is part of CityOnline \\\\n'\", \"'('\", \"'https://ccsf.edu/cityonline'\", \"') and is 16 weeks. For student support and other services, students can check \\\\n'\", \"'Welcome to CityOnline ('\", \"'https://ccsf.instructure.com/courses/39802/pages/welcome'\", \"'). '\", \"'70248'\", \"'9 32'\", \"'O nl'\", \"'  '\", \"'A synchronous'\", \"'0 9/02-12/19'\", \"'  '\", \"'O nline'\", \"'C arballo'\", \"'This class requires use of Canvas with no required in-person meetings. Students will complete course-\\\\n'\", \"'work in Canvas, which must be accessed using an internet-enabled device. This class is part of CityOnline \\\\n'\", \"'('\", \"'https://ccsf.edu/cityonline'\", \"') and is 16 weeks. For student support and other services, students can check \\\\n'\", \"'Welcome to CityOnline ('\", \"'https://ccsf.instructure.com/courses/39802/pages/welcome'\", \"'). '\", \"'PREREQ:  ACCT 1.  '\", \"'70250'\", \"'0 01'\", \"'  '\", \"'L ec'\", \"'  '\", \"'MW'\", \"'  '\", \"'1 1:10-01:25PM'\", \"'  '\", \"'0 8/18-12/19'\", \"'  '\", \"'C LOU 230'\", \"'  '\", \"'O cean'\", \"'  '\", \"'M ullen'\", \"'73520'\", \"'0 02'\", \"'  '\", \"'L ec'\", \"'  '\", \"'T R'\", \"'  '\", \"'1 1:10-01:25PM'\", \"'  '\", \"'0 8/19-12/19'\", \"'  '\", \"'C LOU 230'\", \"'  '\", \"'O cean'\", \"'  '\", \"'M ullen'\", \"'70252'\", \"'9 31'\", \"'  '\", \"'O nl'\", \"'   '\", \"'A synchronous'\", \"'  '\", \"'0 9/02-12/19'\", \"'   '\", \"'O nline'\", \"'  '\", \"'C arballo'\", \"'This class requires use of Canvas with no required in-person meetings. Students will complete course-\\\\n'\", \"'work in Canvas, which must be accessed using an internet-enabled device. This class is part of CityOnline \\\\n'\", \"'('\", \"'https://ccsf.edu/cityonline'\", \"') and is 16 weeks. For student support and other services, students can check \\\\n'\", \"'Welcome to CityOnline ('\", \"'https://ccsf.instructure.com/courses/39802/pages/welcome'\", \"'). '\", \"'Recommended Prep: ACCT 2.  '\", \"'70255'\", \"'9 31'\", \"'  '\", \"'O nl'\", \"'   '\", \"'A synchronous'\", \"'  '\", \"'0 9/02-12/19'\", \"'   '\", \"'O nline'\", \"'  '\", \"'C arballo'\"])\n",
      "11 (4, [\"'REGISTER ONLINE TODAY!'\", \"'1'\", \"'LAST UPDATED: 6/27/2025, 4:30PM'\", \"'LAST UPDATED: 6/27/2025, 4:30PM'\"])\n",
      "14 (10, [\"'Academic Achievement & Personal Success'\", \"'AAPS 103: Orientation to College Transfer'\", \"'3 .0'\", \"'Accounting'\", \"'ACCT 1: Financial Accounting'\", \"'5 .0'\", \"'ACCT 2: Managerial Accounting'\", \"'5 .0'\", \"'ACCT 51: Intermediate Accounting'\", \"'5 .0'\"])\n",
      "16 (1, [\"'CREDIT FALL 2025CCSF SCHEDULE OF CLASSES'\"])\n"
     ]
    }
   ],
   "source": [
    "# Since we will be looping, I want to store the page information to be more efficient\n",
    "first_page = reader.pages[0]\n",
    "\n",
    "# This is useful for the loop below, but needs to be created before the method\n",
    "font_limit = 0\n",
    "# Since the visitor function can collect lines of text\n",
    "lines = []        \n",
    "# This will store the information for each font size throughout the first page\n",
    "_dict = {}\n",
    "\n",
    "def visitor_func(text, cm, tm, font_dict, font_size):\n",
    "    # I just want to collect font and text information for a specific size one at a time\n",
    "    if tm[3] == font_limit: \n",
    "        # I don't want to sift through clutter when looking at printed examples\n",
    "        if text not in  ('', ' ', \"'  '\", '\\n'):\n",
    "            # I use repr just to get more insight into the characters included in each string\n",
    "            lines.append(repr(text))\n",
    "\n",
    "# Arbitrarily chose 20 because I saw that most examples were below 18\n",
    "for i in range(20):\n",
    "    # The index controls the font size\n",
    "    font_limit = i + 1\n",
    "    \n",
    "    # Do the extraction\n",
    "    first_page.extract_text(visitor_text=visitor_func, extraction_mode=\"plain\")\n",
    "    # _list = lines.copy()\n",
    "    _dict[font_limit] = (len(lines), lines)\n",
    "    lines = []\n",
    "    \n",
    "for k, v in _dict.items():\n",
    "    if v[0] > 0:\n",
    "        print(k, v)"
   ]
  },
  {
   "cell_type": "markdown",
   "id": "901cef30",
   "metadata": {},
   "source": [
    "Eureka! This output tells me the following:\n",
    " - Font 9: Paragraph text, specific course information (CRN, SEC, etc.)\n",
    " - Font 11: Footer data\n",
    " - Font 14: Department, course title, number of units\n",
    " - Font 16: Main title of the document\n",
    "\n",
    "So, we still see that there is weird separation of words, but I can do either of the following:\n",
    "\n",
    "1. I can just remove the whitespace for each of the words because they were correctly included as one string.\n",
    "2. I can ignore it and just use this approach to identify departments, course titles, units, and the overal page title, **and** I can use the `layout` extraction mode separately for the other text.\n",
    "\n",
    "At this point, I'm opting for option 2."
   ]
  }
 ],
 "metadata": {
  "kernelspec": {
   "display_name": ".venv",
   "language": "python",
   "name": "python3"
  },
  "language_info": {
   "codemirror_mode": {
    "name": "ipython",
    "version": 3
   },
   "file_extension": ".py",
   "mimetype": "text/x-python",
   "name": "python",
   "nbconvert_exporter": "python",
   "pygments_lexer": "ipython3",
   "version": "3.12.4"
  }
 },
 "nbformat": 4,
 "nbformat_minor": 5
}
