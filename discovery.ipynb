{
 "cells": [
  {
   "cell_type": "markdown",
   "id": "2e8c6a15",
   "metadata": {},
   "source": [
    "# Initial Discovery"
   ]
  },
  {
   "cell_type": "markdown",
   "id": "ba8e4b27",
   "metadata": {},
   "source": [
    "## Context"
   ]
  },
  {
   "cell_type": "markdown",
   "id": "793a7302",
   "metadata": {},
   "source": [
    "I created this notebook, because I realized that in my initial `test.py` script I was documenting my code in a way that was more suitable to a python notebook. With that being siad, I will be rearranging some of the code to better suit this more narrative style. Hopefully this context will be helpful for anyone who was wondering.\n",
    "\n",
    "With that out of the way, let's dive in."
   ]
  },
  {
   "cell_type": "markdown",
   "id": "65e7d589",
   "metadata": {},
   "source": [
    "## Import required libraries"
   ]
  },
  {
   "cell_type": "code",
   "execution_count": 1,
   "id": "364c4035",
   "metadata": {},
   "outputs": [],
   "source": [
    "from pypdf import PdfReader as pr\n",
    "import numpy as np"
   ]
  },
  {
   "cell_type": "markdown",
   "id": "ebda3faf",
   "metadata": {},
   "source": [
    "## Read in the data"
   ]
  },
  {
   "cell_type": "markdown",
   "id": "8f67405a",
   "metadata": {},
   "source": [
    "In this case we will be working with the course catalog found at this [link]() for the 2025 Fall Term courses offered at the City College of San Francisco (CCSF)."
   ]
  },
  {
   "cell_type": "code",
   "execution_count": 3,
   "id": "cd035fea",
   "metadata": {},
   "outputs": [
    {
     "name": "stderr",
     "output_type": "stream",
     "text": [
      "<>:2: SyntaxWarning: invalid escape sequence '\\c'\n",
      "<>:2: SyntaxWarning: invalid escape sequence '\\c'\n",
      "C:\\Users\\chris\\AppData\\Local\\Temp\\ipykernel_45456\\3247992145.py:2: SyntaxWarning: invalid escape sequence '\\c'\n",
      "  reader = pr(\"pdfs\\ccsf_fall-2025-credit-classes.pdf\")\n"
     ]
    }
   ],
   "source": [
    "# Create an instance of the `PdfReader` class\n",
    "reader = pr(\"pdfs\\ccsf_fall-2025-credit-classes.pdf\")"
   ]
  },
  {
   "cell_type": "markdown",
   "id": "7cf4da01",
   "metadata": {},
   "source": [
    "## Examine the first page"
   ]
  },
  {
   "cell_type": "code",
   "execution_count": 9,
   "id": "f30774b1",
   "metadata": {},
   "outputs": [],
   "source": [
    "first_page = reader.pages[0].extract_text().split('\\n')"
   ]
  },
  {
   "cell_type": "markdown",
   "id": "10e4bd24",
   "metadata": {},
   "source": [
    "### \"Meta\" data"
   ]
  },
  {
   "cell_type": "markdown",
   "id": "023ce9ba",
   "metadata": {},
   "source": [
    "I figured it would be nice to get some metadata about the courses."
   ]
  },
  {
   "cell_type": "code",
   "execution_count": 8,
   "id": "ad855d17",
   "metadata": {},
   "outputs": [
    {
     "name": "stdout",
     "output_type": "stream",
     "text": [
      "['CREDIT', 'FALL', '2025CCSF', 'SCHEDULE', 'OF', 'CLASSES']\n"
     ]
    }
   ],
   "source": [
    "# Contains the information about the context of the courses in this file\n",
    "meta = first_page[0].split()\n",
    "print(meta)"
   ]
  },
  {
   "cell_type": "code",
   "execution_count": 5,
   "id": "c7940cae",
   "metadata": {},
   "outputs": [
    {
     "data": {
      "text/plain": [
       "{'school': 'CCSF', 'are_credit_courses': True, 'term': 'FALL', 'year': '2025'}"
      ]
     },
     "execution_count": 5,
     "metadata": {},
     "output_type": "execute_result"
    }
   ],
   "source": [
    "# Weird space between hard coding and kind of not?\n",
    "meta = {\n",
    "    # Handling the combined year and college name\n",
    "    'school': meta[2][4:],\n",
    "    'are_credit_courses': True if meta[0] == 'CREDIT' else False,\n",
    "    'term': meta[1],\n",
    "    # Handling the combined year and college name\n",
    "    'year': meta[2][:4] \n",
    "}\n",
    "\n",
    "meta"
   ]
  },
  {
   "cell_type": "markdown",
   "id": "809fc4d7",
   "metadata": {},
   "source": [
    "### Column Headers"
   ]
  },
  {
   "cell_type": "markdown",
   "id": "b6a8275a",
   "metadata": {},
   "source": [
    "In this document, which you can view [here](), you can see that there are several columns used to organize information pertaining to each course. Let's check out what the `reader` object is returning."
   ]
  },
  {
   "cell_type": "code",
   "execution_count": 7,
   "id": "77e7cf47",
   "metadata": {},
   "outputs": [
    {
     "data": {
      "text/plain": [
       "'CRN  SEC  TYPE  D AYS TIMES  D ATES L OCATION  C AMPUS  INSTR UCTOR'"
      ]
     },
     "execution_count": 7,
     "metadata": {},
     "output_type": "execute_result"
    }
   ],
   "source": [
    "first_page[1]"
   ]
  },
  {
   "cell_type": "markdown",
   "id": "25dfbeb0",
   "metadata": {},
   "source": [
    "Because several of the column titles have odd spacing, I felt that it was easier to just hardcode the column titles:"
   ]
  },
  {
   "cell_type": "code",
   "execution_count": null,
   "id": "516f505c",
   "metadata": {},
   "outputs": [],
   "source": [
    "column_headers = [\n",
    "    'CRN',\n",
    "    'SEC',\n",
    "    'TYPE',\n",
    "    'DAYS',\n",
    "    'TIMES',\n",
    "    'DATES',\n",
    "    'LOCATION',\n",
    "    'CAMPUS',\n",
    "    'INSTRUCTOR'\n",
    "]"
   ]
  },
  {
   "cell_type": "markdown",
   "id": "5851634a",
   "metadata": {},
   "source": [
    "### Parsing the Data"
   ]
  },
  {
   "cell_type": "markdown",
   "id": "6ba40262",
   "metadata": {},
   "source": [
    "It became clear quite quickly that the returned text data would not be very clear. So I needed to find a way to parse the data but also retain its hierarchy."
   ]
  },
  {
   "cell_type": "markdown",
   "id": "3c9695e8",
   "metadata": {},
   "source": [
    "We have `.extract_text()`, which we used for the work above, but that didn't provide much insight on hierarchy. Printing out the text below, we can see that the footer (e.g., \"REGISTER ONLINE TODAY!\") is returned before any of the actual department or course information.\n",
    "\n",
    "Additionally, we still get the weird spacing between some of the column titles and the actual course information pertaining to each column (e.g., \"L ec\" for the \"TYPE\" column, or \"T R\" for \"DAYS\", etc.)."
   ]
  },
  {
   "cell_type": "code",
   "execution_count": null,
   "id": "c42a1129",
   "metadata": {},
   "outputs": [
    {
     "data": {
      "text/plain": [
       "['CREDIT FALL 2025CCSF SCHEDULE OF CLASSES',\n",
       " 'CRN  SEC  TYPE  D AYS TIMES  D ATES L OCATION  C AMPUS  INSTR UCTOR',\n",
       " 'REGISTER ONLINE TODAY!  1',\n",
       " 'LAST UPDATED: 6/27/2025, 4:30PM',\n",
       " 'Academic Achievement & Personal Success',\n",
       " 'AAPS 103: Orientation to College Transfer 3 .0',\n",
       " 'PREREQ: Completion of or concurrent enrollment in: ENGL C1000.  ',\n",
       " '70482 0 08  L ec  T R  0 9:40-10:55AM  0 8/19-12/19  M IC 254  M ission  R ivera',\n",
       " ' ',\n",
       " 'Accounting']"
      ]
     },
     "execution_count": 11,
     "metadata": {},
     "output_type": "execute_result"
    }
   ],
   "source": [
    "# Feel free to change how much you want printed out\n",
    "first_page[:10]"
   ]
  },
  {
   "cell_type": "code",
   "execution_count": null,
   "id": "041c8b83",
   "metadata": {},
   "outputs": [],
   "source": []
  }
 ],
 "metadata": {
  "kernelspec": {
   "display_name": ".venv",
   "language": "python",
   "name": "python3"
  },
  "language_info": {
   "codemirror_mode": {
    "name": "ipython",
    "version": 3
   },
   "file_extension": ".py",
   "mimetype": "text/x-python",
   "name": "python",
   "nbconvert_exporter": "python",
   "pygments_lexer": "ipython3",
   "version": "3.12.4"
  }
 },
 "nbformat": 4,
 "nbformat_minor": 5
}
